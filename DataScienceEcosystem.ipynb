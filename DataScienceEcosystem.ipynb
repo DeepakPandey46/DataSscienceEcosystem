{
 "cells": [
  {
   "cell_type": "markdown",
   "id": "7ba1770f",
   "metadata": {},
   "source": [
    "# Data Science Tools and Ecosystem"
   ]
  },
  {
   "cell_type": "markdown",
   "id": "432c53e4",
   "metadata": {},
   "source": [
    "In this notebook, Data Science Tools and Ecosystem are summarized."
   ]
  },
  {
   "cell_type": "markdown",
   "id": "469e3573",
   "metadata": {},
   "source": [
    "Some of the popular languages that Data Scientists use are:\n",
    "1. Python\n",
    "2. R\n",
    "3. JAVA-ML\n",
    "4. Julia"
   ]
  },
  {
   "cell_type": "markdown",
   "id": "58e2c806",
   "metadata": {},
   "source": [
    "Some of the commonly used libraries used by Data Scientists include:\n",
    "1. Pandas\n",
    "2. NumPy\n",
    "3. ggplot2\n",
    "4. TensorFlow"
   ]
  },
  {
   "cell_type": "markdown",
   "id": "0f0ed0d8",
   "metadata": {},
   "source": [
    "|Data Science Tools |\n",
    "|------------------|\n",
    "|Watson Studio|\n",
    "|RStudio|\n",
    "|VS Code|"
   ]
  },
  {
   "cell_type": "markdown",
   "id": "39778985",
   "metadata": {},
   "source": [
    "### Below are a few examples of evaluating arithmetic expressions in Python"
   ]
  },
  {
   "cell_type": "code",
   "execution_count": 4,
   "id": "4fe2305a",
   "metadata": {},
   "outputs": [
    {
     "data": {
      "text/plain": [
       "17"
      ]
     },
     "execution_count": 4,
     "metadata": {},
     "output_type": "execute_result"
    }
   ],
   "source": [
    "(3*4)+5\n",
    "#This a simple arithmetic expression to mutiply then add integers"
   ]
  },
  {
   "cell_type": "code",
   "execution_count": 6,
   "id": "6b4cc9a0",
   "metadata": {},
   "outputs": [
    {
     "name": "stdout",
     "output_type": "stream",
     "text": [
      "3.3333333333333335\n"
     ]
    }
   ],
   "source": [
    "minute = 200 \n",
    "hours = minute / 60\n",
    "print(hours)\n",
    "# This will convert 200 minutes to hours by diving by 60."
   ]
  },
  {
   "cell_type": "markdown",
   "id": "448e5e7a",
   "metadata": {},
   "source": [
    "***Objectives:***\n",
    "List popular languages for Data Science\n",
    "* Python\n",
    "* R\n",
    "* Java\n",
    "* Julia"
   ]
  },
  {
   "cell_type": "markdown",
   "id": "d730d417",
   "metadata": {},
   "source": [
    "### Author\n",
    "Deepak Pandey"
   ]
  },
  {
   "cell_type": "code",
   "execution_count": null,
   "id": "ab745a8c",
   "metadata": {},
   "outputs": [],
   "source": []
  }
 ],
 "metadata": {
  "kernelspec": {
   "display_name": "Python 3 (ipykernel)",
   "language": "python",
   "name": "python3"
  },
  "language_info": {
   "codemirror_mode": {
    "name": "ipython",
    "version": 3
   },
   "file_extension": ".py",
   "mimetype": "text/x-python",
   "name": "python",
   "nbconvert_exporter": "python",
   "pygments_lexer": "ipython3",
   "version": "3.10.9"
  }
 },
 "nbformat": 4,
 "nbformat_minor": 5
}
